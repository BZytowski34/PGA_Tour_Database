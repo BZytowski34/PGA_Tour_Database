{
 "cells": [
  {
   "cell_type": "markdown",
   "source": [
    "## Preliminary Web Scraping\r\n",
    "\r\n",
    "  * Collecting stats names and stat IDs\r\n",
    "\r\n",
    "  * Getting some practice scraping data from an API and using json files"
   ],
   "metadata": {}
  },
  {
   "cell_type": "code",
   "execution_count": 36,
   "source": [
    "import numpy as np\r\n",
    "import pandas as pd\r\n",
    "from matplotlib import pyplot as plt\r\n",
    "from bs4 import BeautifulSoup\r\n",
    "import os\r\n",
    "import lxml.html as lh\r\n",
    "import requests as req\r\n",
    "import urllib\r\n",
    "import json\r\n",
    "from itertools import chain\r\n",
    "import sqlite3 as db\r\n",
    "import time"
   ],
   "outputs": [],
   "metadata": {}
  },
  {
   "cell_type": "markdown",
   "source": [
    "We will scrape data from the PGA Tour website using their api. The api url can be found by inspecting the tables we want (from https://www.pgatour.com/players/player.28237.rory-mcilroy.html for Rory McIlroy) and using the Network tab to view from where the website collects it's data."
   ],
   "metadata": {}
  },
  {
   "cell_type": "code",
   "execution_count": 37,
   "source": [
    "url = 'https://statdata-api-prod.pgatour.com/api/clientfile/YtdPlayerStatsArchive?P_ID=28237&YEAR=2021&format=json&userTrackingId=exp=1629169369~acl=*~hmac=2e4932d30fe2ebab841a2596f1387714ab37d4c52729620410b3425117fe64fb'"
   ],
   "outputs": [],
   "metadata": {}
  },
  {
   "cell_type": "code",
   "execution_count": 38,
   "source": [
    "api_id = {'McIlroy' : '28237'}\r\n",
    "player_id = api_id['McIlroy']\r\n",
    "year = ''\r\n",
    "hmac = ''\r\n",
    "tracking_id = ''\r\n",
    "url_format = 'https://statdata-api-prod.pgatour.com/api/clientfile/YtdPlayerStatsArchive?P_ID=' + player_id + '&YEAR=' + year + '&format=json&userTrackingId=exp=' + tracking_id + '~acl=*~hmac=' + hmac"
   ],
   "outputs": [],
   "metadata": {}
  },
  {
   "cell_type": "markdown",
   "source": [
    "The player_id and year are easy to choose. But the hmac and tracking_id change every time I open the webpage. I need to find a way to automate the retrieval of the hmac and tracking_id for each webpage."
   ],
   "metadata": {}
  },
  {
   "cell_type": "markdown",
   "source": [
    "Note: this url has to be updated frequently. Potentially every time you run this file you may need to update the url"
   ],
   "metadata": {}
  },
  {
   "cell_type": "code",
   "execution_count": 39,
   "source": [
    "request = req.get(url)\r\n",
    "j = request.json()"
   ],
   "outputs": [],
   "metadata": {}
  },
  {
   "cell_type": "code",
   "execution_count": 40,
   "source": [
    "recap_data = j.get('plrs')[0]#.get('years')[0].get('tours')[0].get('statCats')[0].get('stats')"
   ],
   "outputs": [],
   "metadata": {}
  },
  {
   "cell_type": "code",
   "execution_count": 41,
   "source": [
    "off_the_tee_data = j.get('plrs')[0].get('years')[0].get('tours')[0].get('statCats')[1].get('stats')"
   ],
   "outputs": [],
   "metadata": {}
  },
  {
   "cell_type": "code",
   "execution_count": 42,
   "source": [
    "app_the_green_data = j.get('plrs')[0].get('years')[0].get('tours')[0].get('statCats')[2].get('stats')"
   ],
   "outputs": [],
   "metadata": {}
  },
  {
   "cell_type": "code",
   "execution_count": 43,
   "source": [
    "ar_the_green_data = j.get('plrs')[0].get('years')[0].get('tours')[0].get('statCats')[3].get('stats')"
   ],
   "outputs": [],
   "metadata": {}
  },
  {
   "cell_type": "code",
   "execution_count": 44,
   "source": [
    "putting_data = j.get('plrs')[0].get('years')[0].get('tours')[0].get('statCats')[4].get('stats')"
   ],
   "outputs": [],
   "metadata": {}
  },
  {
   "cell_type": "code",
   "execution_count": 45,
   "source": [
    "scoring_data = j.get('plrs')[0].get('years')[0].get('tours')[0].get('statCats')[5].get('stats')"
   ],
   "outputs": [],
   "metadata": {}
  },
  {
   "cell_type": "code",
   "execution_count": 46,
   "source": [
    "streaks_data = j.get('plrs')[0].get('years')[0].get('tours')[0].get('statCats')[6].get('stats')"
   ],
   "outputs": [],
   "metadata": {}
  },
  {
   "cell_type": "code",
   "execution_count": 47,
   "source": [
    "recap = pd.DataFrame(recap_data)"
   ],
   "outputs": [],
   "metadata": {}
  },
  {
   "cell_type": "code",
   "execution_count": 48,
   "source": [
    "recap['years']"
   ],
   "outputs": [
    {
     "output_type": "execute_result",
     "data": {
      "text/plain": [
       "0    {'year': '2021', 'disclaimer': 'Player did not...\n",
       "Name: years, dtype: object"
      ]
     },
     "metadata": {},
     "execution_count": 48
    }
   ],
   "metadata": {}
  },
  {
   "cell_type": "markdown",
   "source": [
    "We nearly have everything we need, our problem is in the additionals column. Notice how our stats query is a list of dictionaries with embedded dictionaries for the 'additionals' key. The other columns converted to the data frame nicely because they did not have embedded dictionaries within them. "
   ],
   "metadata": {}
  },
  {
   "cell_type": "markdown",
   "source": [
    "Now we have a separate data frame for the additional statistics column from our recap data frame. Now we can do this for all of our categories."
   ],
   "metadata": {}
  },
  {
   "cell_type": "code",
   "execution_count": 49,
   "source": [
    "off_the_tee = pd.DataFrame(off_the_tee_data)"
   ],
   "outputs": [],
   "metadata": {}
  },
  {
   "cell_type": "code",
   "execution_count": 50,
   "source": [
    "off_the_tee.head()"
   ],
   "outputs": [
    {
     "output_type": "execute_result",
     "data": {
      "text/plain": [
       "  statID                           name  value rank projRank  \\\n",
       "0  02674               SG: Tee-to-Green  1.382    8            \n",
       "1  02567                SG: Off-the-Tee   .702    5            \n",
       "2    101               Driving Distance  319.0    2            \n",
       "3    317  Driving Distance - All Drives  308.2    2            \n",
       "4    159                 Longest Drives    379   87            \n",
       "\n",
       "                                         additionals  \n",
       "0  [{'title': 'SG:OTT', 'value': '.702'}, {'title...  \n",
       "1  [{'title': 'Total SG:OTT', 'value': '35.804'},...  \n",
       "2  [{'title': 'Total Distance', 'value': '39,552'...  \n",
       "3  [{'title': 'Total Distance', 'value': '218,790...  \n",
       "4  [{'title': 'Tournament', 'value': 'the Memoria...  "
      ],
      "text/html": [
       "<div>\n",
       "<style scoped>\n",
       "    .dataframe tbody tr th:only-of-type {\n",
       "        vertical-align: middle;\n",
       "    }\n",
       "\n",
       "    .dataframe tbody tr th {\n",
       "        vertical-align: top;\n",
       "    }\n",
       "\n",
       "    .dataframe thead th {\n",
       "        text-align: right;\n",
       "    }\n",
       "</style>\n",
       "<table border=\"1\" class=\"dataframe\">\n",
       "  <thead>\n",
       "    <tr style=\"text-align: right;\">\n",
       "      <th></th>\n",
       "      <th>statID</th>\n",
       "      <th>name</th>\n",
       "      <th>value</th>\n",
       "      <th>rank</th>\n",
       "      <th>projRank</th>\n",
       "      <th>additionals</th>\n",
       "    </tr>\n",
       "  </thead>\n",
       "  <tbody>\n",
       "    <tr>\n",
       "      <th>0</th>\n",
       "      <td>02674</td>\n",
       "      <td>SG: Tee-to-Green</td>\n",
       "      <td>1.382</td>\n",
       "      <td>8</td>\n",
       "      <td></td>\n",
       "      <td>[{'title': 'SG:OTT', 'value': '.702'}, {'title...</td>\n",
       "    </tr>\n",
       "    <tr>\n",
       "      <th>1</th>\n",
       "      <td>02567</td>\n",
       "      <td>SG: Off-the-Tee</td>\n",
       "      <td>.702</td>\n",
       "      <td>5</td>\n",
       "      <td></td>\n",
       "      <td>[{'title': 'Total SG:OTT', 'value': '35.804'},...</td>\n",
       "    </tr>\n",
       "    <tr>\n",
       "      <th>2</th>\n",
       "      <td>101</td>\n",
       "      <td>Driving Distance</td>\n",
       "      <td>319.0</td>\n",
       "      <td>2</td>\n",
       "      <td></td>\n",
       "      <td>[{'title': 'Total Distance', 'value': '39,552'...</td>\n",
       "    </tr>\n",
       "    <tr>\n",
       "      <th>3</th>\n",
       "      <td>317</td>\n",
       "      <td>Driving Distance - All Drives</td>\n",
       "      <td>308.2</td>\n",
       "      <td>2</td>\n",
       "      <td></td>\n",
       "      <td>[{'title': 'Total Distance', 'value': '218,790...</td>\n",
       "    </tr>\n",
       "    <tr>\n",
       "      <th>4</th>\n",
       "      <td>159</td>\n",
       "      <td>Longest Drives</td>\n",
       "      <td>379</td>\n",
       "      <td>87</td>\n",
       "      <td></td>\n",
       "      <td>[{'title': 'Tournament', 'value': 'the Memoria...</td>\n",
       "    </tr>\n",
       "  </tbody>\n",
       "</table>\n",
       "</div>"
      ]
     },
     "metadata": {},
     "execution_count": 50
    }
   ],
   "metadata": {}
  },
  {
   "cell_type": "code",
   "execution_count": 51,
   "source": [
    "off_the_tee_additionals = pd.DataFrame(list(chain.from_iterable(off_the_tee['additionals'])))"
   ],
   "outputs": [],
   "metadata": {}
  },
  {
   "cell_type": "code",
   "execution_count": 52,
   "source": [
    "app_the_green = pd.DataFrame(app_the_green_data)"
   ],
   "outputs": [],
   "metadata": {}
  },
  {
   "cell_type": "code",
   "execution_count": 53,
   "source": [
    "ar_the_green = pd.DataFrame(ar_the_green_data)"
   ],
   "outputs": [],
   "metadata": {}
  },
  {
   "cell_type": "code",
   "execution_count": 54,
   "source": [
    "putting = pd.DataFrame(putting_data)"
   ],
   "outputs": [],
   "metadata": {}
  },
  {
   "cell_type": "code",
   "execution_count": 55,
   "source": [
    "scoring = pd.DataFrame(scoring_data)"
   ],
   "outputs": [],
   "metadata": {}
  },
  {
   "cell_type": "code",
   "execution_count": 56,
   "source": [
    "streaks = pd.DataFrame(streaks_data)"
   ],
   "outputs": [],
   "metadata": {}
  },
  {
   "cell_type": "code",
   "execution_count": 57,
   "source": [
    "app_the_green_additionals = pd.DataFrame(list(chain.from_iterable(app_the_green['additionals'])))"
   ],
   "outputs": [],
   "metadata": {}
  },
  {
   "cell_type": "code",
   "execution_count": 58,
   "source": [
    "ar_the_green_additionals = pd.DataFrame(list(chain.from_iterable(ar_the_green['additionals'])))"
   ],
   "outputs": [],
   "metadata": {}
  },
  {
   "cell_type": "code",
   "execution_count": 59,
   "source": [
    "putting_additionals = pd.DataFrame(list(chain.from_iterable(putting['additionals'])))"
   ],
   "outputs": [],
   "metadata": {}
  },
  {
   "cell_type": "code",
   "execution_count": 60,
   "source": [
    "scoring_additionals = pd.DataFrame(list(chain.from_iterable(scoring['additionals'])))"
   ],
   "outputs": [],
   "metadata": {}
  },
  {
   "cell_type": "code",
   "execution_count": 61,
   "source": [
    "streaks_additionals = pd.DataFrame(list(chain.from_iterable(streaks['additionals'])))"
   ],
   "outputs": [],
   "metadata": {}
  },
  {
   "cell_type": "markdown",
   "source": [
    "In future iterations I will make a function that automates this. But for now this will suffice."
   ],
   "metadata": {}
  },
  {
   "cell_type": "markdown",
   "source": [
    "Let's now concatenate the dataframes, drop the additionals column from the primary data, and drop the projRank column. Let's also remove duplicate rows from both."
   ],
   "metadata": {}
  },
  {
   "cell_type": "code",
   "execution_count": 62,
   "source": [
    "McIlroy_data = pd.concat([recap, off_the_tee, app_the_green, ar_the_green, putting, scoring, streaks], axis = 0)\r\n",
    "McIlroy_data = McIlroy_data.drop(['projRank', 'additionals'], axis = 1)\r\n",
    "McIlroy_data = McIlroy_data.drop_duplicates('statID')"
   ],
   "outputs": [],
   "metadata": {}
  },
  {
   "cell_type": "code",
   "execution_count": 63,
   "source": [
    "McIlroy_additionals = pd.concat([off_the_tee_additionals, #recap_additionals\r\n",
    "                                 app_the_green_additionals, ar_the_green_additionals,\r\n",
    "                                 putting_additionals, scoring_additionals,\r\n",
    "                                 streaks_additionals], axis = 0)\r\n",
    "McIlroy_additionals = McIlroy_additionals.drop_duplicates('title')"
   ],
   "outputs": [],
   "metadata": {}
  },
  {
   "cell_type": "code",
   "execution_count": 64,
   "source": [
    "McIlroy_data_transposed = McIlroy_data.transpose()\r\n",
    "#McIlroy_data_transposed.rename(columns = McIlroy_data_transposed[2,:])\r\n",
    "McIlroy_data_transposed.columns = McIlroy_data_transposed.iloc[1, :]"
   ],
   "outputs": [],
   "metadata": {}
  },
  {
   "cell_type": "code",
   "execution_count": 65,
   "source": [
    "McIlroy_additionals_transposed = McIlroy_additionals.transpose()\r\n",
    "McIlroy_additionals_transposed.columns = McIlroy_additionals_transposed.iloc[0,:]\r\n"
   ],
   "outputs": [],
   "metadata": {}
  },
  {
   "cell_type": "code",
   "execution_count": 66,
   "source": [
    "McIlroy_data.loc[McIlroy_data['statID'] == '103']"
   ],
   "outputs": [
    {
     "output_type": "execute_result",
     "data": {
      "text/plain": [
       "  plrNum plrName years statID                             name   value rank\n",
       "1    NaN     NaN   NaN    103  Greens in Regulation Percentage  65.86%   99"
      ],
      "text/html": [
       "<div>\n",
       "<style scoped>\n",
       "    .dataframe tbody tr th:only-of-type {\n",
       "        vertical-align: middle;\n",
       "    }\n",
       "\n",
       "    .dataframe tbody tr th {\n",
       "        vertical-align: top;\n",
       "    }\n",
       "\n",
       "    .dataframe thead th {\n",
       "        text-align: right;\n",
       "    }\n",
       "</style>\n",
       "<table border=\"1\" class=\"dataframe\">\n",
       "  <thead>\n",
       "    <tr style=\"text-align: right;\">\n",
       "      <th></th>\n",
       "      <th>plrNum</th>\n",
       "      <th>plrName</th>\n",
       "      <th>years</th>\n",
       "      <th>statID</th>\n",
       "      <th>name</th>\n",
       "      <th>value</th>\n",
       "      <th>rank</th>\n",
       "    </tr>\n",
       "  </thead>\n",
       "  <tbody>\n",
       "    <tr>\n",
       "      <th>1</th>\n",
       "      <td>NaN</td>\n",
       "      <td>NaN</td>\n",
       "      <td>NaN</td>\n",
       "      <td>103</td>\n",
       "      <td>Greens in Regulation Percentage</td>\n",
       "      <td>65.86%</td>\n",
       "      <td>99</td>\n",
       "    </tr>\n",
       "  </tbody>\n",
       "</table>\n",
       "</div>"
      ]
     },
     "metadata": {},
     "execution_count": 66
    }
   ],
   "metadata": {}
  },
  {
   "cell_type": "code",
   "execution_count": 67,
   "source": [
    "stat_ids = McIlroy_data['statID'].values"
   ],
   "outputs": [],
   "metadata": {}
  },
  {
   "cell_type": "code",
   "execution_count": 68,
   "source": [
    "stat_names = McIlroy_data['name'].values"
   ],
   "outputs": [],
   "metadata": {}
  },
  {
   "cell_type": "code",
   "execution_count": 69,
   "source": [
    "stats = {stat_ids[i] : stat_names[i] for i in range(1, len(stat_ids))}"
   ],
   "outputs": [],
   "metadata": {}
  },
  {
   "cell_type": "markdown",
   "source": [
    "Since we have the stats names and the stats ids we can make a dataframe and then migrate it onto a database so we never have to run the previous processes again. It's very clunky and there are certainly better ways to do what I have just done, but for the purposes of this post and to be in the spirit of learning I decided to play around and try to learn some new tools and file types. In the future, I probably don't have to use an API to scrape the stat names and stat ids, nor would I have to unwind the json response data and create individual data frames for each stat category then concatenate them after I wrangle them into the same dimensions. But for now, I have the basics for what I need to scrape every statistic on the PGA Tour's website."
   ],
   "metadata": {}
  },
  {
   "cell_type": "code",
   "execution_count": 70,
   "source": [
    "data = {'stat_ids' : stat_ids[1:], 'stat_names': stat_names[1:]}\r\n",
    "stat_ids_df = pd.DataFrame.from_dict(data)\r\n",
    "conn = db.connect('stat_ids.db')\r\n",
    "stat_ids_df.to_sql('stat_ids', conn, if_exists = 'replace')\r\n",
    "conn.close()"
   ],
   "outputs": [],
   "metadata": {}
  },
  {
   "cell_type": "markdown",
   "source": [
    "## Collecting all the data\r\n",
    "\r\n",
    "  * Now that we have the stats database, we can construct dataframes for each statistic we want in each year we want, and make a master database!\r\n",
    "\r\n",
    "  * We can also **automate** the retrieval of all of the statistics and the construction of the master database."
   ],
   "metadata": {}
  },
  {
   "cell_type": "code",
   "execution_count": 71,
   "source": [
    "conn = db.connect('stat_ids.db')\r\n",
    "\r\n",
    "c = conn.cursor()\r\n",
    "\r\n",
    "query = conn.execute(\"SELECT * From stat_ids\")\r\n",
    "cols = [column[0] for column in query.description]\r\n",
    "stat_ids = pd.DataFrame.from_records(data = query.fetchall(), columns = cols)\r\n",
    "\r\n",
    "conn.close()"
   ],
   "outputs": [],
   "metadata": {}
  },
  {
   "cell_type": "code",
   "execution_count": 72,
   "source": [
    "stat_ids.head()"
   ],
   "outputs": [
    {
     "output_type": "execute_result",
     "data": {
      "text/plain": [
       "   index stat_ids                     stat_names\n",
       "0      0    02674               SG: Tee-to-Green\n",
       "1      1    02567                SG: Off-the-Tee\n",
       "2      2      101               Driving Distance\n",
       "3      3      317  Driving Distance - All Drives\n",
       "4      4      159                 Longest Drives"
      ],
      "text/html": [
       "<div>\n",
       "<style scoped>\n",
       "    .dataframe tbody tr th:only-of-type {\n",
       "        vertical-align: middle;\n",
       "    }\n",
       "\n",
       "    .dataframe tbody tr th {\n",
       "        vertical-align: top;\n",
       "    }\n",
       "\n",
       "    .dataframe thead th {\n",
       "        text-align: right;\n",
       "    }\n",
       "</style>\n",
       "<table border=\"1\" class=\"dataframe\">\n",
       "  <thead>\n",
       "    <tr style=\"text-align: right;\">\n",
       "      <th></th>\n",
       "      <th>index</th>\n",
       "      <th>stat_ids</th>\n",
       "      <th>stat_names</th>\n",
       "    </tr>\n",
       "  </thead>\n",
       "  <tbody>\n",
       "    <tr>\n",
       "      <th>0</th>\n",
       "      <td>0</td>\n",
       "      <td>02674</td>\n",
       "      <td>SG: Tee-to-Green</td>\n",
       "    </tr>\n",
       "    <tr>\n",
       "      <th>1</th>\n",
       "      <td>1</td>\n",
       "      <td>02567</td>\n",
       "      <td>SG: Off-the-Tee</td>\n",
       "    </tr>\n",
       "    <tr>\n",
       "      <th>2</th>\n",
       "      <td>2</td>\n",
       "      <td>101</td>\n",
       "      <td>Driving Distance</td>\n",
       "    </tr>\n",
       "    <tr>\n",
       "      <th>3</th>\n",
       "      <td>3</td>\n",
       "      <td>317</td>\n",
       "      <td>Driving Distance - All Drives</td>\n",
       "    </tr>\n",
       "    <tr>\n",
       "      <th>4</th>\n",
       "      <td>4</td>\n",
       "      <td>159</td>\n",
       "      <td>Longest Drives</td>\n",
       "    </tr>\n",
       "  </tbody>\n",
       "</table>\n",
       "</div>"
      ]
     },
     "metadata": {},
     "execution_count": 72
    }
   ],
   "metadata": {}
  },
  {
   "cell_type": "code",
   "execution_count": 73,
   "source": [
    "stat_nums = stat_ids['stat_ids']\r\n",
    "stat_names = stat_ids['stat_names']\r\n",
    "stat_dict = dict(zip(stat_nums, stat_names))"
   ],
   "outputs": [],
   "metadata": {}
  },
  {
   "cell_type": "markdown",
   "source": [
    "I included this extra dictionary as practice on how to create dictionaries from a database/dataframe. It may seem redundant but I wanted the extra practice."
   ],
   "metadata": {}
  },
  {
   "cell_type": "markdown",
   "source": [
    "### Automating the data retrieval\r\n",
    "\r\n",
    "We're going to need to write some functions to help us scrape the PGA Tour's website and assemble our database. These are:\r\n",
    "\r\n",
    "  1. A function to generate urls for each statistic's webpage for a given season.\r\n",
    "\r\n",
    "  2. A function to extract the headers of the data table in the urls.\r\n",
    "\r\n",
    "  3. A function to scrape the data based on the extracted headers.\r\n",
    "\r\n",
    "  4. A function to take the extracted data and assemble them into dataframes.\r\n",
    "\r\n",
    "  5. A function to execute the above three functions and concatenate all the data frames into one database."
   ],
   "metadata": {}
  },
  {
   "cell_type": "code",
   "execution_count": 74,
   "source": [
    "def get_links(stat_ids, year):\r\n",
    "    \"\"\"\r\n",
    "    Create a list of links for each statistic in a given year.\r\n",
    "    \"\"\"\r\n",
    "    base_url = 'https://www.pgatour.com/content/pgatour/stats/stat.'\r\n",
    "    urls = [base_url + key + '.y' + str(year) + '.html' for key in stat_dict.keys()]\r\n",
    "    return urls"
   ],
   "outputs": [],
   "metadata": {}
  },
  {
   "cell_type": "markdown",
   "source": [
    "Now what do I need? I know I can access all of the meaning headers I want. I need to change some of the headers, for example headers that just say '%', for convenience, then I can rework my existing scraping functions to use the headers I have here. This will also make my make_data_frame function much cleaner and simpler to use as I won't have many separate cases involved."
   ],
   "metadata": {}
  },
  {
   "cell_type": "code",
   "execution_count": 88,
   "source": [
    "def get_headers(links):\r\n",
    "    headers_nested_list = []\r\n",
    "    stat_dict_keys = [key for key in stat_dict.keys()]\r\n",
    "\r\n",
    "    for i in range(len(links)):\r\n",
    "        headers = []\r\n",
    "        stat_name = stat_dict[stat_dict_keys[i]].upper()\r\n",
    "        response = req.get(links[i])\r\n",
    "        soup = BeautifulSoup(response.content, 'lxml')\r\n",
    "\r\n",
    "        #Get rounds header\r\n",
    "        rank_this_week = soup.find_all(class_=\"hidden-small hidden-medium\")[0].get_text()\r\n",
    "        headers.append('RANK ' + rank_this_week)\r\n",
    "\r\n",
    "        player_name = soup.find_all(class_ = 'player-name')[0].get_text()\r\n",
    "        headers.append(player_name)\r\n",
    "\r\n",
    "        streak_stats = ['CONSECUTIVE CUTS', 'YTD PAR OR BETTER STREAK',\r\n",
    "                       'BEST YTD 1-PUTT OR BETTER STREAK','BEST YTD STREAK W/O A 3-PUTT',\r\n",
    "                       'CONSECUTIVE SAND SAVES', 'CONSECUTIVE FAIRWAYS HIT',\r\n",
    "                       'CONSECUTIVE GIR', 'CONSECUTIVE HOLES BELOW PAR',\r\n",
    "                       'CONSECUTIVE PAR 3 BIRDIES', 'CONSECUTIVE BIRDIES STREAK',\r\n",
    "                       'CONSECUTIVE BIRDIES/EAGLES STREAK',\r\n",
    "                       'CURRENT STREAK WITHOUT A 3-PUTT']\r\n",
    "            \r\n",
    "        #Get other headers\r\n",
    "        stat_headers = soup.find_all(class_=\"col-stat\")\r\n",
    "        for header in stat_headers:\r\n",
    "                headers.append(header.get_text())\r\n",
    "\r\n",
    "        headers.insert(1, 'RANK LAST WEEK')\r\n",
    "        # All edge cases:\r\n",
    "\r\n",
    "        if len(headers) > 4 and headers[4] == 'TOTAL PUTTS':\r\n",
    "            if len(headers) == 7:\r\n",
    "                #print('edge case 1')\r\n",
    "                headers.insert(3, 'ROUNDS')\r\n",
    "                headers[4] = stat_name\r\n",
    "                #print('edge case 1')\r\n",
    "                #print(headers)\r\n",
    "                headers_nested_list.append(headers)\r\n",
    "                #print(links[i])\r\n",
    "                #print(stat_name)\r\n",
    "                continue\r\n",
    "            else:\r\n",
    "                headers[3] = stat_name\r\n",
    "                #print('edge case 2')\r\n",
    "                #print(headers)\r\n",
    "                headers_nested_list.append(headers)\r\n",
    "                #print(links[i])\r\n",
    "                #print(stat_name)\r\n",
    "                continue\r\n",
    "\r\n",
    "        if stat_name in streak_stats:\r\n",
    "            #print('edge case 3')\r\n",
    "            headers[3] = stat_name\r\n",
    "            #print(headers)\r\n",
    "            headers_nested_list.append(headers)\r\n",
    "            #print(links[i])\r\n",
    "            #print(stat_name)\r\n",
    "            continue\r\n",
    "            \r\n",
    "        elif len(headers) > 6 and headers[5] == 'TOTAL ADJUSTMENT':\r\n",
    "            #another edge case\r\n",
    "            #print('edge case 4')\r\n",
    "            headers.insert(3, 'ROUNDS')\r\n",
    "            headers[4] = stat_name\r\n",
    "            #print(stat_name)\r\n",
    "            #print(headers)\r\n",
    "            headers_nested_list.append(headers)\r\n",
    "        elif len(headers) == 6 and headers[5] == 'TOTAL ROUNDS':\r\n",
    "            if headers[4] == 'TOTAL STROKES':\r\n",
    "                if stat_name == 'SCORING AVERAGE (ACTUAL)':\r\n",
    "                    #print('edge case 5')\r\n",
    "                    headers.insert(3, 'ROUNDS')\r\n",
    "                    headers[4] = stat_name\r\n",
    "                    #print(stat_name)\r\n",
    "                    #print(headers[4])\r\n",
    "                    headers_nested_list.append(headers)\r\n",
    "                    #print(headers)\r\n",
    "                    #print(links[i])\r\n",
    "                    #print(stat_name)\r\n",
    "                    continue\r\n",
    "            if headers[4] == '# OF BIRDIES':\r\n",
    "                #print('edge case 6')\r\n",
    "                headers.insert(3, 'ROUNDS')\r\n",
    "                headers[4] = stat_name\r\n",
    "                #print(stat_name)\r\n",
    "                #print(headers[4])\r\n",
    "                headers_nested_list.append(headers)\r\n",
    "                #print(headers)\r\n",
    "                #print(links[i])\r\n",
    "                #print(stat_name)\r\n",
    "                continue\r\n",
    "            #print(headers[3])\r\n",
    "            #print('edge case 7')\r\n",
    "            headers[3] = stat_name\r\n",
    "            #print(headers[3])\r\n",
    "            #print(stat_name)\r\n",
    "            #print(headers)\r\n",
    "            headers_nested_list.append(headers)\r\n",
    "\r\n",
    "        else:\r\n",
    "            #print(headers)\r\n",
    "            if len(headers) == 3:\r\n",
    "                #print(\"edge case 8\")\r\n",
    "                headers.insert(3, 'ROUNDS')\r\n",
    "                headers.insert(4, stat_name)\r\n",
    "                headers_nested_list.append(headers)\r\n",
    "            \r\n",
    "            else:\r\n",
    "                #print(\"edge case 9\")\r\n",
    "                headers.insert(3, 'ROUNDS')\r\n",
    "                headers[4] = stat_name\r\n",
    "                headers_nested_list.append(headers)\r\n",
    "\r\n",
    "        #print(headers)\r\n",
    "        #print(links[i])\r\n",
    "        #print(stat_name)\r\n",
    "    return headers_nested_list"
   ],
   "outputs": [],
   "metadata": {}
  },
  {
   "cell_type": "markdown",
   "source": [
    "The commented out print statements are for debugging purposes. I mainly develop in a jupyter environment and thus far I have not found a debugger similar to what IDE's have. So for now, my code looks a bit cluttered. It would also be beneficial to implement unit testing and try-except blocks."
   ],
   "metadata": {}
  },
  {
   "cell_type": "code",
   "execution_count": 76,
   "source": [
    "def get_stats(link):\r\n",
    "    '''\r\n",
    "    Collect the stats from a soup object and return as a list.\r\n",
    "    '''\r\n",
    "    response =  ''\r\n",
    "    # Implement a sleep between failed attempts to access the webpage.\r\n",
    "    \r\n",
    "    while response == '':\r\n",
    "        try:\r\n",
    "            response = req.get(link)\r\n",
    "            break\r\n",
    "        except:\r\n",
    "            print(\"Connection refused by the server..\")\r\n",
    "            print(\"Let me sleep for 5 seconds\")\r\n",
    "            print(\"ZZzzzz...\")\r\n",
    "            time.sleep(5)\r\n",
    "            print(\"Was a nice sleep, now let me continue...\")\r\n",
    "            continue\r\n",
    "\r\n",
    "    # access the data\r\n",
    "    soup = BeautifulSoup(response.content, 'lxml')\r\n",
    "    # find the datatable\r\n",
    "    table = soup.find('table', attrs = {'id': 'statsTable'})\r\n",
    "    stats = []\r\n",
    "    # find the body of the datatable\r\n",
    "    body = table.find('tbody')\r\n",
    "    # find the rows of the datatable\r\n",
    "    all_rows = body.findAll('tr')\r\n",
    "    # go through each row and append each column of each row \r\n",
    "    # to our stats list. \r\n",
    "    for row in all_rows:\r\n",
    "        line = []\r\n",
    "        for column in row.findAll('td'):\r\n",
    "            data = column\r\n",
    "            data = data.text\r\n",
    "            line.append(data)\r\n",
    "        stats.append(line)\r\n",
    "    return stats"
   ],
   "outputs": [],
   "metadata": {}
  },
  {
   "cell_type": "code",
   "execution_count": 77,
   "source": [
    "def make_data_frames(links, year):\r\n",
    "    \"\"\"\r\n",
    "    This function takes a scoring category and a provided url_list,\r\n",
    "    calls the get_datas function to scrape the data, and creates a\r\n",
    "    data frame for every url in the url list and appropriately\r\n",
    "    renames the columns based upon the category provided. This returns\r\n",
    "    a list of data frames.\r\n",
    "    \"\"\"\r\n",
    "    \r\n",
    "    headers_list = get_headers(links)\r\n",
    "    df_list = []\r\n",
    "\r\n",
    "    for i in range(len(links)):\r\n",
    "        data = get_stats(links[i])\r\n",
    "        df = pd.DataFrame(data, columns = headers_list[i])\r\n",
    "        # remove \\n characters and whitespace\r\n",
    "        df['RANK THIS WEEK'] = df['RANK THIS WEEK'].str.replace('\\n', '')\r\n",
    "        df['RANK LAST WEEK'] = df['RANK LAST WEEK'].str.replace('\\n', '')\r\n",
    "        df['PLAYER NAME'] = df['PLAYER NAME'].str.replace('\\n', '').str.strip()\r\n",
    "        df_list.append(df)\r\n",
    "    return df_list"
   ],
   "outputs": [],
   "metadata": {}
  },
  {
   "cell_type": "markdown",
   "source": [
    "Create a list of year numbers from 2010 to 2021 for the seasons to extract."
   ],
   "metadata": {}
  },
  {
   "cell_type": "code",
   "execution_count": 81,
   "source": [
    "years = [str(i) for i in range(2010, 2022)]"
   ],
   "outputs": [],
   "metadata": {}
  },
  {
   "cell_type": "markdown",
   "source": [
    "Create a list of year numbers from 2010 to 2021 for the seasons to extract."
   ],
   "metadata": {}
  },
  {
   "cell_type": "code",
   "execution_count": 90,
   "source": [
    "def make_master_data_frame():\r\n",
    "    for year in years:\r\n",
    "        print(year)\r\n",
    "        # create the list of links for each statistic with the current year.\r\n",
    "        links = get_links(stat_ids, year)\r\n",
    "        # create the associated dataframes with each link in the current year.\r\n",
    "        data_frames = make_data_frames(links, year)\r\n",
    "        # remove duplicate columns. Perhaps in the future I will \r\n",
    "        # change the name of each column slightly in the body of the\r\n",
    "        # make_data_frames function but for now I don't see many\r\n",
    "        # uses for these statistics.\r\n",
    "        duplicate_columns = ['ROUNDS','ATTEMTPS','RELATIVE TO PAR',\r\n",
    "                            'MEASURED ROUNDS','TOTAL DISTANCE (FEET)',\r\n",
    "                            '# OF ATTEMPTS', 'SUCCESSES','TOTAL PUTTS',\r\n",
    "                            'TOTAL ROUNDS','PUTTS MADE','TOTAL HOLES',\r\n",
    "                            'ROUND','HOLE','CURRENT STREAK',\r\n",
    "                            'RANK THIS WEEK','RANK LAST WEEK',\r\n",
    "                            'ATTEMPTS', 'TOTAL STROKES', 'TOTAL DISTANCE',\r\n",
    "                            'YEAR/TOURN#', 'TOURNAMENT', 'POSSIBLE FWYS', 'GREENS HIT',\r\n",
    "                            '# HOLES', 'GREENS HIT', 'RTP-NOT GOING FOR THE GRN',\r\n",
    "                            'RTP-SUCCESSES', 'GIR RANK', '# OF HOLES',\r\n",
    "                            'TOTAL BIRDIES', 'SG: OFF-THE-TEE','SG: APPROACH THE GREEN',\r\n",
    "                            'SG: AROUND-THE-GREEN']\r\n",
    "\r\n",
    "        columns_to_drop = []\r\n",
    "        df_one = data_frames[0]\r\n",
    "        for column in df_one.columns:\r\n",
    "            if column in duplicate_columns:\r\n",
    "                columns_to_drop.append(column)\r\n",
    "        df_one = df_one.drop(columns_to_drop, axis = 1)\r\n",
    "\r\n",
    "        # merge all Dataframes together\r\n",
    "\r\n",
    "        for i in range(1, len(data_frames)):\r\n",
    "            columns_to_drop = []\r\n",
    "            for column in data_frames[i].columns:\r\n",
    "                if column in duplicate_columns:\r\n",
    "                    columns_to_drop.append(column)\r\n",
    "            df_one = pd.merge(df_one, data_frames[i].drop(columns_to_drop, axis = 1), on ='PLAYER NAME', how = 'left')\r\n",
    "\r\n",
    "        # add year column\r\n",
    "        df_one['YEAR'] = year\r\n",
    "        \r\n",
    "        #Concat dataframe to overall dataframe    \r\n",
    "        if year == '2010':\r\n",
    "            df_total = pd.DataFrame()\r\n",
    "            df_total = pd.concat([df_total, df_one], axis=0)\r\n",
    "        else:\r\n",
    "            df_total = pd.concat([df_total, df_one], axis=0)\r\n",
    "\r\n",
    "    print('Finished Constructing Table')\r\n",
    "    print(df_total.shape)\r\n",
    "    return df_total"
   ],
   "outputs": [],
   "metadata": {}
  },
  {
   "cell_type": "code",
   "execution_count": 91,
   "source": [
    "df_total = make_master_data_frame()\r\n",
    "df_total.head()"
   ],
   "outputs": [
    {
     "output_type": "stream",
     "name": "stdout",
     "text": [
      "2010\n"
     ]
    },
    {
     "output_type": "stream",
     "name": "stderr",
     "text": [
      "C:\\Users\\zytow\\AppData\\Local\\Temp/ipykernel_22092/1279410816.py:42: PerformanceWarning: DataFrame is highly fragmented.  This is usually the result of calling `frame.insert` many times, which has poor performance.  Consider using pd.concat instead.  To get a de-fragmented frame, use `newframe = frame.copy()`\n",
      "  df_one['YEAR'] = year\n"
     ]
    },
    {
     "output_type": "stream",
     "name": "stdout",
     "text": [
      "2011\n",
      "2012\n",
      "2013\n",
      "2014\n",
      "2015\n",
      "2016\n",
      "2017\n",
      "2018\n",
      "2019\n",
      "2020\n",
      "2021\n",
      "Finished Constructing Table\n",
      "(10462, 188)\n"
     ]
    },
    {
     "output_type": "execute_result",
     "data": {
      "text/plain": [
       "      PLAYER NAME SG: TEE-TO-GREEN SG:OTT SG:APR SG:ARG TOTAL SG:OTT  \\\n",
       "0      Adam Scott            1.609   .472  1.164  -.027       24.523   \n",
       "1     Vijay Singh            1.494   .369   .979   .145       21.050   \n",
       "2  Steve Stricker            1.383   .191   .773   .419       10.669   \n",
       "3       Jim Furyk            1.159   .150   .641   .367        9.018   \n",
       "4  Phil Mickelson            1.151   .185   .738   .228       10.556   \n",
       "\n",
       "  DRIVING DISTANCE TOTAL DRIVES DRIVING DISTANCE - ALL DRIVES # OF DRIVES  \\\n",
       "0            294.4          136                         285.7         724   \n",
       "1            292.3          148                         287.0         798   \n",
       "2            282.9          144                         279.1         784   \n",
       "3            276.0          148                         273.0         836   \n",
       "4            299.1          152                         295.0         798   \n",
       "\n",
       "   ... BEST YTD STREAK W/O A 3-PUTT CURRENT STREAK WITHOUT A 3-PUTT  \\\n",
       "0  ...                          116                              26   \n",
       "1  ...                          118                               6   \n",
       "2  ...                          223                              58   \n",
       "3  ...                          124                              17   \n",
       "4  ...                          154                               7   \n",
       "\n",
       "  CONSECUTIVE SAND SAVES CONSECUTIVE FAIRWAYS HIT CONSECUTIVE GIR  \\\n",
       "0                      4                       19              15   \n",
       "1                      6                       14              17   \n",
       "2                      8                       24              11   \n",
       "3                      9                       19              18   \n",
       "4                      6                       12              18   \n",
       "\n",
       "  CONSECUTIVE HOLES BELOW PAR CONSECUTIVE PAR 3 BIRDIES  \\\n",
       "0                           3                         4   \n",
       "1                           4                         2   \n",
       "2                           4                         2   \n",
       "3                           4                         3   \n",
       "4                           6                         2   \n",
       "\n",
       "  CONSECUTIVE BIRDIES STREAK CONSECUTIVE BIRDIES/EAGLES STREAK  YEAR  \n",
       "0                          3                                 3  2010  \n",
       "1                          4                                 3  2010  \n",
       "2                          4                                 2  2010  \n",
       "3                          4                                 3  2010  \n",
       "4                          6                                 3  2010  \n",
       "\n",
       "[5 rows x 188 columns]"
      ],
      "text/html": [
       "<div>\n",
       "<style scoped>\n",
       "    .dataframe tbody tr th:only-of-type {\n",
       "        vertical-align: middle;\n",
       "    }\n",
       "\n",
       "    .dataframe tbody tr th {\n",
       "        vertical-align: top;\n",
       "    }\n",
       "\n",
       "    .dataframe thead th {\n",
       "        text-align: right;\n",
       "    }\n",
       "</style>\n",
       "<table border=\"1\" class=\"dataframe\">\n",
       "  <thead>\n",
       "    <tr style=\"text-align: right;\">\n",
       "      <th></th>\n",
       "      <th>PLAYER NAME</th>\n",
       "      <th>SG: TEE-TO-GREEN</th>\n",
       "      <th>SG:OTT</th>\n",
       "      <th>SG:APR</th>\n",
       "      <th>SG:ARG</th>\n",
       "      <th>TOTAL SG:OTT</th>\n",
       "      <th>DRIVING DISTANCE</th>\n",
       "      <th>TOTAL DRIVES</th>\n",
       "      <th>DRIVING DISTANCE - ALL DRIVES</th>\n",
       "      <th># OF DRIVES</th>\n",
       "      <th>...</th>\n",
       "      <th>BEST YTD STREAK W/O A 3-PUTT</th>\n",
       "      <th>CURRENT STREAK WITHOUT A 3-PUTT</th>\n",
       "      <th>CONSECUTIVE SAND SAVES</th>\n",
       "      <th>CONSECUTIVE FAIRWAYS HIT</th>\n",
       "      <th>CONSECUTIVE GIR</th>\n",
       "      <th>CONSECUTIVE HOLES BELOW PAR</th>\n",
       "      <th>CONSECUTIVE PAR 3 BIRDIES</th>\n",
       "      <th>CONSECUTIVE BIRDIES STREAK</th>\n",
       "      <th>CONSECUTIVE BIRDIES/EAGLES STREAK</th>\n",
       "      <th>YEAR</th>\n",
       "    </tr>\n",
       "  </thead>\n",
       "  <tbody>\n",
       "    <tr>\n",
       "      <th>0</th>\n",
       "      <td>Adam Scott</td>\n",
       "      <td>1.609</td>\n",
       "      <td>.472</td>\n",
       "      <td>1.164</td>\n",
       "      <td>-.027</td>\n",
       "      <td>24.523</td>\n",
       "      <td>294.4</td>\n",
       "      <td>136</td>\n",
       "      <td>285.7</td>\n",
       "      <td>724</td>\n",
       "      <td>...</td>\n",
       "      <td>116</td>\n",
       "      <td>26</td>\n",
       "      <td>4</td>\n",
       "      <td>19</td>\n",
       "      <td>15</td>\n",
       "      <td>3</td>\n",
       "      <td>4</td>\n",
       "      <td>3</td>\n",
       "      <td>3</td>\n",
       "      <td>2010</td>\n",
       "    </tr>\n",
       "    <tr>\n",
       "      <th>1</th>\n",
       "      <td>Vijay Singh</td>\n",
       "      <td>1.494</td>\n",
       "      <td>.369</td>\n",
       "      <td>.979</td>\n",
       "      <td>.145</td>\n",
       "      <td>21.050</td>\n",
       "      <td>292.3</td>\n",
       "      <td>148</td>\n",
       "      <td>287.0</td>\n",
       "      <td>798</td>\n",
       "      <td>...</td>\n",
       "      <td>118</td>\n",
       "      <td>6</td>\n",
       "      <td>6</td>\n",
       "      <td>14</td>\n",
       "      <td>17</td>\n",
       "      <td>4</td>\n",
       "      <td>2</td>\n",
       "      <td>4</td>\n",
       "      <td>3</td>\n",
       "      <td>2010</td>\n",
       "    </tr>\n",
       "    <tr>\n",
       "      <th>2</th>\n",
       "      <td>Steve Stricker</td>\n",
       "      <td>1.383</td>\n",
       "      <td>.191</td>\n",
       "      <td>.773</td>\n",
       "      <td>.419</td>\n",
       "      <td>10.669</td>\n",
       "      <td>282.9</td>\n",
       "      <td>144</td>\n",
       "      <td>279.1</td>\n",
       "      <td>784</td>\n",
       "      <td>...</td>\n",
       "      <td>223</td>\n",
       "      <td>58</td>\n",
       "      <td>8</td>\n",
       "      <td>24</td>\n",
       "      <td>11</td>\n",
       "      <td>4</td>\n",
       "      <td>2</td>\n",
       "      <td>4</td>\n",
       "      <td>2</td>\n",
       "      <td>2010</td>\n",
       "    </tr>\n",
       "    <tr>\n",
       "      <th>3</th>\n",
       "      <td>Jim Furyk</td>\n",
       "      <td>1.159</td>\n",
       "      <td>.150</td>\n",
       "      <td>.641</td>\n",
       "      <td>.367</td>\n",
       "      <td>9.018</td>\n",
       "      <td>276.0</td>\n",
       "      <td>148</td>\n",
       "      <td>273.0</td>\n",
       "      <td>836</td>\n",
       "      <td>...</td>\n",
       "      <td>124</td>\n",
       "      <td>17</td>\n",
       "      <td>9</td>\n",
       "      <td>19</td>\n",
       "      <td>18</td>\n",
       "      <td>4</td>\n",
       "      <td>3</td>\n",
       "      <td>4</td>\n",
       "      <td>3</td>\n",
       "      <td>2010</td>\n",
       "    </tr>\n",
       "    <tr>\n",
       "      <th>4</th>\n",
       "      <td>Phil Mickelson</td>\n",
       "      <td>1.151</td>\n",
       "      <td>.185</td>\n",
       "      <td>.738</td>\n",
       "      <td>.228</td>\n",
       "      <td>10.556</td>\n",
       "      <td>299.1</td>\n",
       "      <td>152</td>\n",
       "      <td>295.0</td>\n",
       "      <td>798</td>\n",
       "      <td>...</td>\n",
       "      <td>154</td>\n",
       "      <td>7</td>\n",
       "      <td>6</td>\n",
       "      <td>12</td>\n",
       "      <td>18</td>\n",
       "      <td>6</td>\n",
       "      <td>2</td>\n",
       "      <td>6</td>\n",
       "      <td>3</td>\n",
       "      <td>2010</td>\n",
       "    </tr>\n",
       "  </tbody>\n",
       "</table>\n",
       "<p>5 rows × 188 columns</p>\n",
       "</div>"
      ]
     },
     "metadata": {},
     "execution_count": 91
    }
   ],
   "metadata": {
    "scrolled": true
   }
  },
  {
   "cell_type": "markdown",
   "source": [
    "Load the dataframe onto a database for use in other projects."
   ],
   "metadata": {}
  },
  {
   "cell_type": "code",
   "execution_count": 92,
   "source": [
    "conn = db.connect('pga_database.db')\r\n",
    "df_total.to_sql('pga_stats_table', conn, if_exists = 'replace')\r\n",
    "conn.close()"
   ],
   "outputs": [
    {
     "output_type": "stream",
     "name": "stderr",
     "text": [
      "C:\\Users\\zytow\\AppData\\Local\\Programs\\Python\\Python39\\lib\\site-packages\\pandas\\core\\generic.py:2869: UserWarning: The spaces in these column names will not be changed. In pandas versions < 0.14, spaces were converted to underscores.\n",
      "  sql.to_sql(\n",
      "C:\\Users\\zytow\\AppData\\Local\\Programs\\Python\\Python39\\lib\\site-packages\\pandas\\io\\sql.py:900: PerformanceWarning: DataFrame is highly fragmented.  This is usually the result of calling `frame.insert` many times, which has poor performance.  Consider using pd.concat instead.  To get a de-fragmented frame, use `newframe = frame.copy()`\n",
      "  temp.reset_index(inplace=True)\n"
     ]
    }
   ],
   "metadata": {}
  },
  {
   "cell_type": "markdown",
   "source": [
    "Access the database and create a dataframe from it."
   ],
   "metadata": {}
  },
  {
   "cell_type": "code",
   "execution_count": 93,
   "source": [
    "conn = db.connect('pga_database.db')\r\n",
    "query = conn.execute(\"SELECT * From pga_stats_table\")\r\n",
    "cols = [column[0] for column in query.description]\r\n",
    "df_total = pd.DataFrame.from_records(data = query.fetchall(), columns = cols)"
   ],
   "outputs": [],
   "metadata": {}
  },
  {
   "cell_type": "code",
   "execution_count": 94,
   "source": [
    "df_total.loc[df_total['PLAYER NAME'] == 'Rory McIlroy']"
   ],
   "outputs": [
    {
     "output_type": "execute_result",
     "data": {
      "text/plain": [
       "       index   PLAYER NAME SG: TEE-TO-GREEN SG:OTT SG:APR SG:ARG TOTAL SG:OTT  \\\n",
       "12        12  Rory McIlroy             .944   .698   .271  -.025       27.933   \n",
       "378        0  Rory McIlroy            2.347  1.072  1.002   .273       42.860   \n",
       "579       10  Rory McIlroy            1.077   .624   .420   .032       25.601   \n",
       "749        0  Rory McIlroy            1.992  1.367   .602   .022       65.623   \n",
       "1111       1  Rory McIlroy            1.813  1.192   .428   .193       52.438   \n",
       "1305       7  Rory McIlroy            1.382   .965   .322   .095       34.731   \n",
       "1497       5  Rory McIlroy            1.351   .761   .269   .322       38.798   \n",
       "5780       0  Rory McIlroy            2.126  1.195   .633   .297       68.124   \n",
       "5973       5  Rory McIlroy            1.314   .702   .504   .108       35.796   \n",
       "10263      7  Rory McIlroy            1.382   .702   .588   .091       35.804   \n",
       "\n",
       "      DRIVING DISTANCE TOTAL DRIVES DRIVING DISTANCE - ALL DRIVES  ...  \\\n",
       "12               300.0          104                         293.3  ...   \n",
       "378              310.1          106                         298.6  ...   \n",
       "579              302.2          110                         294.8  ...   \n",
       "749              310.5          120                         301.5  ...   \n",
       "1111             306.2          108                         300.7  ...   \n",
       "1305             317.2           88                         309.9  ...   \n",
       "1497             319.7          122                         305.7  ...   \n",
       "5780             313.5          128                         304.2  ...   \n",
       "5973             314.0          104                         303.4  ...   \n",
       "10263            319.0          124                         308.2  ...   \n",
       "\n",
       "      BEST YTD STREAK W/O A 3-PUTT CURRENT STREAK WITHOUT A 3-PUTT  \\\n",
       "12                             194                              12   \n",
       "378                            110                              97   \n",
       "579                            126                              49   \n",
       "749                            152                               8   \n",
       "1111                           106                              64   \n",
       "1305                            85                               4   \n",
       "1497                           184                              50   \n",
       "5780                           190                             140   \n",
       "5973                           245                              18   \n",
       "10263                          125                              55   \n",
       "\n",
       "      CONSECUTIVE SAND SAVES CONSECUTIVE FAIRWAYS HIT CONSECUTIVE GIR  \\\n",
       "12                         6                       16              17   \n",
       "378                       10                       12              13   \n",
       "579                        5                        9              13   \n",
       "749                        5                       11              22   \n",
       "1111                       4                       15              21   \n",
       "1305                      16                        8              17   \n",
       "1497                       7                       14              26   \n",
       "5780                       6                       17              15   \n",
       "5973                       5                       11              13   \n",
       "10263                      8                       10              15   \n",
       "\n",
       "      CONSECUTIVE HOLES BELOW PAR CONSECUTIVE PAR 3 BIRDIES  \\\n",
       "12                              4                         1   \n",
       "378                             4                         4   \n",
       "579                             4                         2   \n",
       "749                             5                         2   \n",
       "1111                            4                         2   \n",
       "1305                            3                         2   \n",
       "1497                            6                         2   \n",
       "5780                            4                         3   \n",
       "5973                            4                         3   \n",
       "10263                           5                         3   \n",
       "\n",
       "      CONSECUTIVE BIRDIES STREAK CONSECUTIVE BIRDIES/EAGLES STREAK  YEAR  \n",
       "12                             3                                 4  2010  \n",
       "378                            4                                 2  2012  \n",
       "579                            4                                 2  2013  \n",
       "749                            5                                 3  2014  \n",
       "1111                           4                                 4  2016  \n",
       "1305                           3                                 3  2017  \n",
       "1497                           6                                 1  2018  \n",
       "5780                           4                                 2  2019  \n",
       "5973                           4                                 3  2020  \n",
       "10263                          5                                 2  2021  \n",
       "\n",
       "[10 rows x 189 columns]"
      ],
      "text/html": [
       "<div>\n",
       "<style scoped>\n",
       "    .dataframe tbody tr th:only-of-type {\n",
       "        vertical-align: middle;\n",
       "    }\n",
       "\n",
       "    .dataframe tbody tr th {\n",
       "        vertical-align: top;\n",
       "    }\n",
       "\n",
       "    .dataframe thead th {\n",
       "        text-align: right;\n",
       "    }\n",
       "</style>\n",
       "<table border=\"1\" class=\"dataframe\">\n",
       "  <thead>\n",
       "    <tr style=\"text-align: right;\">\n",
       "      <th></th>\n",
       "      <th>index</th>\n",
       "      <th>PLAYER NAME</th>\n",
       "      <th>SG: TEE-TO-GREEN</th>\n",
       "      <th>SG:OTT</th>\n",
       "      <th>SG:APR</th>\n",
       "      <th>SG:ARG</th>\n",
       "      <th>TOTAL SG:OTT</th>\n",
       "      <th>DRIVING DISTANCE</th>\n",
       "      <th>TOTAL DRIVES</th>\n",
       "      <th>DRIVING DISTANCE - ALL DRIVES</th>\n",
       "      <th>...</th>\n",
       "      <th>BEST YTD STREAK W/O A 3-PUTT</th>\n",
       "      <th>CURRENT STREAK WITHOUT A 3-PUTT</th>\n",
       "      <th>CONSECUTIVE SAND SAVES</th>\n",
       "      <th>CONSECUTIVE FAIRWAYS HIT</th>\n",
       "      <th>CONSECUTIVE GIR</th>\n",
       "      <th>CONSECUTIVE HOLES BELOW PAR</th>\n",
       "      <th>CONSECUTIVE PAR 3 BIRDIES</th>\n",
       "      <th>CONSECUTIVE BIRDIES STREAK</th>\n",
       "      <th>CONSECUTIVE BIRDIES/EAGLES STREAK</th>\n",
       "      <th>YEAR</th>\n",
       "    </tr>\n",
       "  </thead>\n",
       "  <tbody>\n",
       "    <tr>\n",
       "      <th>12</th>\n",
       "      <td>12</td>\n",
       "      <td>Rory McIlroy</td>\n",
       "      <td>.944</td>\n",
       "      <td>.698</td>\n",
       "      <td>.271</td>\n",
       "      <td>-.025</td>\n",
       "      <td>27.933</td>\n",
       "      <td>300.0</td>\n",
       "      <td>104</td>\n",
       "      <td>293.3</td>\n",
       "      <td>...</td>\n",
       "      <td>194</td>\n",
       "      <td>12</td>\n",
       "      <td>6</td>\n",
       "      <td>16</td>\n",
       "      <td>17</td>\n",
       "      <td>4</td>\n",
       "      <td>1</td>\n",
       "      <td>3</td>\n",
       "      <td>4</td>\n",
       "      <td>2010</td>\n",
       "    </tr>\n",
       "    <tr>\n",
       "      <th>378</th>\n",
       "      <td>0</td>\n",
       "      <td>Rory McIlroy</td>\n",
       "      <td>2.347</td>\n",
       "      <td>1.072</td>\n",
       "      <td>1.002</td>\n",
       "      <td>.273</td>\n",
       "      <td>42.860</td>\n",
       "      <td>310.1</td>\n",
       "      <td>106</td>\n",
       "      <td>298.6</td>\n",
       "      <td>...</td>\n",
       "      <td>110</td>\n",
       "      <td>97</td>\n",
       "      <td>10</td>\n",
       "      <td>12</td>\n",
       "      <td>13</td>\n",
       "      <td>4</td>\n",
       "      <td>4</td>\n",
       "      <td>4</td>\n",
       "      <td>2</td>\n",
       "      <td>2012</td>\n",
       "    </tr>\n",
       "    <tr>\n",
       "      <th>579</th>\n",
       "      <td>10</td>\n",
       "      <td>Rory McIlroy</td>\n",
       "      <td>1.077</td>\n",
       "      <td>.624</td>\n",
       "      <td>.420</td>\n",
       "      <td>.032</td>\n",
       "      <td>25.601</td>\n",
       "      <td>302.2</td>\n",
       "      <td>110</td>\n",
       "      <td>294.8</td>\n",
       "      <td>...</td>\n",
       "      <td>126</td>\n",
       "      <td>49</td>\n",
       "      <td>5</td>\n",
       "      <td>9</td>\n",
       "      <td>13</td>\n",
       "      <td>4</td>\n",
       "      <td>2</td>\n",
       "      <td>4</td>\n",
       "      <td>2</td>\n",
       "      <td>2013</td>\n",
       "    </tr>\n",
       "    <tr>\n",
       "      <th>749</th>\n",
       "      <td>0</td>\n",
       "      <td>Rory McIlroy</td>\n",
       "      <td>1.992</td>\n",
       "      <td>1.367</td>\n",
       "      <td>.602</td>\n",
       "      <td>.022</td>\n",
       "      <td>65.623</td>\n",
       "      <td>310.5</td>\n",
       "      <td>120</td>\n",
       "      <td>301.5</td>\n",
       "      <td>...</td>\n",
       "      <td>152</td>\n",
       "      <td>8</td>\n",
       "      <td>5</td>\n",
       "      <td>11</td>\n",
       "      <td>22</td>\n",
       "      <td>5</td>\n",
       "      <td>2</td>\n",
       "      <td>5</td>\n",
       "      <td>3</td>\n",
       "      <td>2014</td>\n",
       "    </tr>\n",
       "    <tr>\n",
       "      <th>1111</th>\n",
       "      <td>1</td>\n",
       "      <td>Rory McIlroy</td>\n",
       "      <td>1.813</td>\n",
       "      <td>1.192</td>\n",
       "      <td>.428</td>\n",
       "      <td>.193</td>\n",
       "      <td>52.438</td>\n",
       "      <td>306.2</td>\n",
       "      <td>108</td>\n",
       "      <td>300.7</td>\n",
       "      <td>...</td>\n",
       "      <td>106</td>\n",
       "      <td>64</td>\n",
       "      <td>4</td>\n",
       "      <td>15</td>\n",
       "      <td>21</td>\n",
       "      <td>4</td>\n",
       "      <td>2</td>\n",
       "      <td>4</td>\n",
       "      <td>4</td>\n",
       "      <td>2016</td>\n",
       "    </tr>\n",
       "    <tr>\n",
       "      <th>1305</th>\n",
       "      <td>7</td>\n",
       "      <td>Rory McIlroy</td>\n",
       "      <td>1.382</td>\n",
       "      <td>.965</td>\n",
       "      <td>.322</td>\n",
       "      <td>.095</td>\n",
       "      <td>34.731</td>\n",
       "      <td>317.2</td>\n",
       "      <td>88</td>\n",
       "      <td>309.9</td>\n",
       "      <td>...</td>\n",
       "      <td>85</td>\n",
       "      <td>4</td>\n",
       "      <td>16</td>\n",
       "      <td>8</td>\n",
       "      <td>17</td>\n",
       "      <td>3</td>\n",
       "      <td>2</td>\n",
       "      <td>3</td>\n",
       "      <td>3</td>\n",
       "      <td>2017</td>\n",
       "    </tr>\n",
       "    <tr>\n",
       "      <th>1497</th>\n",
       "      <td>5</td>\n",
       "      <td>Rory McIlroy</td>\n",
       "      <td>1.351</td>\n",
       "      <td>.761</td>\n",
       "      <td>.269</td>\n",
       "      <td>.322</td>\n",
       "      <td>38.798</td>\n",
       "      <td>319.7</td>\n",
       "      <td>122</td>\n",
       "      <td>305.7</td>\n",
       "      <td>...</td>\n",
       "      <td>184</td>\n",
       "      <td>50</td>\n",
       "      <td>7</td>\n",
       "      <td>14</td>\n",
       "      <td>26</td>\n",
       "      <td>6</td>\n",
       "      <td>2</td>\n",
       "      <td>6</td>\n",
       "      <td>1</td>\n",
       "      <td>2018</td>\n",
       "    </tr>\n",
       "    <tr>\n",
       "      <th>5780</th>\n",
       "      <td>0</td>\n",
       "      <td>Rory McIlroy</td>\n",
       "      <td>2.126</td>\n",
       "      <td>1.195</td>\n",
       "      <td>.633</td>\n",
       "      <td>.297</td>\n",
       "      <td>68.124</td>\n",
       "      <td>313.5</td>\n",
       "      <td>128</td>\n",
       "      <td>304.2</td>\n",
       "      <td>...</td>\n",
       "      <td>190</td>\n",
       "      <td>140</td>\n",
       "      <td>6</td>\n",
       "      <td>17</td>\n",
       "      <td>15</td>\n",
       "      <td>4</td>\n",
       "      <td>3</td>\n",
       "      <td>4</td>\n",
       "      <td>2</td>\n",
       "      <td>2019</td>\n",
       "    </tr>\n",
       "    <tr>\n",
       "      <th>5973</th>\n",
       "      <td>5</td>\n",
       "      <td>Rory McIlroy</td>\n",
       "      <td>1.314</td>\n",
       "      <td>.702</td>\n",
       "      <td>.504</td>\n",
       "      <td>.108</td>\n",
       "      <td>35.796</td>\n",
       "      <td>314.0</td>\n",
       "      <td>104</td>\n",
       "      <td>303.4</td>\n",
       "      <td>...</td>\n",
       "      <td>245</td>\n",
       "      <td>18</td>\n",
       "      <td>5</td>\n",
       "      <td>11</td>\n",
       "      <td>13</td>\n",
       "      <td>4</td>\n",
       "      <td>3</td>\n",
       "      <td>4</td>\n",
       "      <td>3</td>\n",
       "      <td>2020</td>\n",
       "    </tr>\n",
       "    <tr>\n",
       "      <th>10263</th>\n",
       "      <td>7</td>\n",
       "      <td>Rory McIlroy</td>\n",
       "      <td>1.382</td>\n",
       "      <td>.702</td>\n",
       "      <td>.588</td>\n",
       "      <td>.091</td>\n",
       "      <td>35.804</td>\n",
       "      <td>319.0</td>\n",
       "      <td>124</td>\n",
       "      <td>308.2</td>\n",
       "      <td>...</td>\n",
       "      <td>125</td>\n",
       "      <td>55</td>\n",
       "      <td>8</td>\n",
       "      <td>10</td>\n",
       "      <td>15</td>\n",
       "      <td>5</td>\n",
       "      <td>3</td>\n",
       "      <td>5</td>\n",
       "      <td>2</td>\n",
       "      <td>2021</td>\n",
       "    </tr>\n",
       "  </tbody>\n",
       "</table>\n",
       "<p>10 rows × 189 columns</p>\n",
       "</div>"
      ]
     },
     "metadata": {},
     "execution_count": 94
    }
   ],
   "metadata": {}
  },
  {
   "cell_type": "markdown",
   "source": [
    "Now I can access historical data for each player that the PGA Tour tracked from 2010 to 2021"
   ],
   "metadata": {}
  },
  {
   "cell_type": "markdown",
   "source": [
    "## Now I can put this onto my website"
   ],
   "metadata": {}
  }
 ],
 "metadata": {
  "kernelspec": {
   "name": "python3",
   "display_name": "Python 3.9.6 64-bit"
  },
  "language_info": {
   "codemirror_mode": {
    "name": "ipython",
    "version": 3
   },
   "file_extension": ".py",
   "mimetype": "text/x-python",
   "name": "python",
   "nbconvert_exporter": "python",
   "pygments_lexer": "ipython3",
   "version": "3.9.6"
  },
  "interpreter": {
   "hash": "c07add57436dab3d2e72709bb1dd54a0102ce2920f613a8aa29c0c70ab5e2e27"
  }
 },
 "nbformat": 4,
 "nbformat_minor": 4
}
